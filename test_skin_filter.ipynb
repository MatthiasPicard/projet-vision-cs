{
 "cells": [
  {
   "cell_type": "code",
   "execution_count": 8,
   "metadata": {},
   "outputs": [],
   "source": [
    "import cv2\n",
    "import numpy as np\n",
    "from matplotlib import pyplot as plt\n",
    "import os\n",
    "%matplotlib inline\n"
   ]
  },
  {
   "cell_type": "code",
   "execution_count": 9,
   "metadata": {},
   "outputs": [
    {
     "data": {
      "text/plain": [
       "<matplotlib.image.AxesImage at 0x157e793a0>"
      ]
     },
     "execution_count": 9,
     "metadata": {},
     "output_type": "execute_result"
    },
    {
     "data": {
      "image/png": "[encoded data removed]",
      "text/plain": [
       "<Figure size 640x480 with 1 Axes>"
      ]
     },
     "metadata": {},
     "output_type": "display_data"
    }
   ],
   "source": [
    "# Approche classique avec parcours de l'image\n",
    "def isSkin(pixel):\n",
    "    b = pixel[0]\n",
    "    g = pixel[1]\n",
    "    r = pixel[2]\n",
    "    c1 = r > 95\n",
    "    c2 = g > 40\n",
    "    c3 = b > 20\n",
    "    c4 = max(pixel) - min(pixel) > 15\n",
    "    c4 = abs(int(r) - int(g)) > 15\n",
    "    c5 = r > g\n",
    "    c6 = r > b\n",
    "    isSkin = c1 and c2 and c3 and c4 and c5 and c6\n",
    "    return isSkin\n",
    "\n",
    "\n",
    "def createSkinMask(src):\n",
    "    img = cv2.imread(src, 1)\n",
    "    height, width = img.shape[:2]\n",
    "    mask = np.zeros((height, width), np.uint8)\n",
    "    for i in range(height):\n",
    "        for j in range(width):\n",
    "            if isSkin(img[i][j]):\n",
    "                mask[i][j] = 255\n",
    "    return mask\n",
    "\n",
    "\n",
    "skinMask = createSkinMask(\"./data/A_real.jpg\")\n",
    "plt.imshow(skinMask, interpolation=\"nearest\")"
   ]
  },
  {
   "cell_type": "code",
   "execution_count": 14,
   "metadata": {},
   "outputs": [
    {
     "name": "stdout",
     "output_type": "stream",
     "text": [
      "./data/Data/Face_Dataset/Pratheepan_Dataset/FacePhoto\n",
      "25\n",
      "./data/Data/Face_Dataset/Ground_Truth/GroundT_FacePhoto\n",
      "25\n"
     ]
    },
    {
     "name": "stderr",
     "output_type": "stream",
     "text": [
      "libpng warning: iCCP: known incorrect sRGB profile\n",
      "libpng warning: iCCP: known incorrect sRGB profile\n",
      "libpng warning: iCCP: known incorrect sRGB profile\n",
      "libpng warning: iCCP: known incorrect sRGB profile\n",
      "libpng warning: iCCP: known incorrect sRGB profile\n",
      "libpng warning: iCCP: known incorrect sRGB profile\n"
     ]
    },
    {
     "ename": "AssertionError",
     "evalue": "",
     "output_type": "error",
     "traceback": [
      "\u001b[0;31m---------------------------------------------------------------------------\u001b[0m",
      "\u001b[0;31mAssertionError\u001b[0m                            Traceback (most recent call last)",
      "Cell \u001b[0;32mIn[14], line 36\u001b[0m\n\u001b[1;32m     32\u001b[0m mask_images \u001b[38;5;241m=\u001b[39m getImagesFromResources(\n\u001b[1;32m     33\u001b[0m     \u001b[38;5;124m\"\u001b[39m\u001b[38;5;124m./data/Data/Face_Dataset/Ground_Truth/GroundT_FacePhoto/\u001b[39m\u001b[38;5;124m\"\u001b[39m, \u001b[38;5;124m\"\u001b[39m\u001b[38;5;124mGray\u001b[39m\u001b[38;5;124m\"\u001b[39m\n\u001b[1;32m     34\u001b[0m )\n\u001b[1;32m     35\u001b[0m \u001b[38;5;28mprint\u001b[39m(\u001b[38;5;28mlen\u001b[39m(mask_images))\n\u001b[0;32m---> 36\u001b[0m \u001b[38;5;28;01massert\u001b[39;00m \u001b[38;5;28mlen\u001b[39m(skin_images) \u001b[38;5;241m==\u001b[39m \u001b[38;5;241m32\u001b[39m\n\u001b[1;32m     37\u001b[0m \u001b[38;5;28;01massert\u001b[39;00m \u001b[38;5;28mlen\u001b[39m(mask_images) \u001b[38;5;241m==\u001b[39m \u001b[38;5;241m32\u001b[39m\n\u001b[1;32m     40\u001b[0m \u001b[38;5;28;01mdef\u001b[39;00m \u001b[38;5;21mcreate_histograms\u001b[39m(color_space, size, skin_images, mask_images):\n",
      "\u001b[0;31mAssertionError\u001b[0m: "
     ]
    }
   ],
   "source": [
    "def compterPixels(I, k):\n",
    "    return np.count_nonzero((I == k))\n",
    "\n",
    "\n",
    "def inverserImage(I):\n",
    "    return 255 - I\n",
    "\n",
    "\n",
    "def getImagesFromResources(skin_rep, color_space):\n",
    "    skindir = os.path.dirname(skin_rep)\n",
    "    print(skindir)\n",
    "    skin_images = []\n",
    "    for filename in os.listdir(skindir):\n",
    "        img = cv2.imread(os.path.join(skindir, filename))\n",
    "        if img is not None:\n",
    "            if color_space == \"BGR\":\n",
    "                skin_images.append(img)\n",
    "            elif color_space == \"Lab\":\n",
    "                skin_images.append(cv2.cvtColor(img, cv2.COLOR_BGR2LAB))\n",
    "            elif color_space == \"HSV\":\n",
    "                skin_images.append(cv2.cvtColor(img, cv2.COLOR_BGR2HSV))\n",
    "            elif color_space == \"Gray\":\n",
    "                skin_images.append(cv2.cvtColor(img, cv2.COLOR_BGR2GRAY))\n",
    "    return skin_images\n",
    "\n",
    "\n",
    "skin_images = getImagesFromResources(\n",
    "    \"./data/Data/Face_Dataset/Pratheepan_Dataset/FacePhoto/\", \"Lab\"\n",
    ")\n",
    "assert len(skin_images) == 32\n",
    "\n",
    "mask_images = getImagesFromResources(\n",
    "    \"./data/Data/Face_Dataset/Ground_Truth/GroundT_FacePhoto/\", \"Gray\"\n",
    ")\n",
    "assert len(mask_images) == 32\n",
    "\n",
    "\n",
    "def create_histograms(color_space, size, skin_images, mask_images):\n",
    "    if color_space in [\"BGR\", \"Lab\"]:\n",
    "        # Creation de l'histogramme de peau\n",
    "        hist_peau = [[0 for j in range(size)] for i in range(size)]\n",
    "        hist_non_peau = [[0 for j in range(size)] for i in range(size)]\n",
    "        nb_pixel_peau = 0\n",
    "        nb_pixel_non_peau = 0\n",
    "        for img in skin_images:\n",
    "            nb_pixel_peau = nb_pixel_peau + compterPixels(mask_images[0], 255)\n",
    "            nb_pixel_non_peau = nb_pixel_non_peau + compterPixels(mask_images[0], 0)\n",
    "            hist_peau = hist_peau + cv2.calcHist(\n",
    "                [skin_images[0]], [1, 2], mask_images[0], [size, size], [0, 256, 0, 256]\n",
    "            )\n",
    "            hist_non_peau = hist_non_peau + cv2.calcHist(\n",
    "                [skin_images[0]],\n",
    "                [1, 2],\n",
    "                inverserImage(mask_images[0]),\n",
    "                [size, size],\n",
    "                [0, 256, 0, 256],\n",
    "            )\n",
    "        print(nb_pixel_peau)\n",
    "        hist_peau = hist_peau / nb_pixel_peau\n",
    "        hist_non_peau = hist_non_peau / nb_pixel_non_peau\n",
    "        p_peau_prior = nb_pixel_peau / (nb_pixel_peau + nb_pixel_non_peau)\n",
    "        p_non_peau_prior = nb_pixel_non_peau / (nb_pixel_peau + nb_pixel_non_peau)\n",
    "    elif color_space == \"HSV\":\n",
    "        hist_peau = [[0 for j in range(size)] for i in range(size)]\n",
    "        hist_non_peau = [[0 for j in range(size)] for i in range(size)]\n",
    "        nb_pixel_peau = 0\n",
    "        nb_pixel_non_peau = 0\n",
    "        for img in skin_images:\n",
    "            nb_pixel_peau = nb_pixel_peau + compterPixels(mask_images[0], 255)\n",
    "            nb_pixel_non_peau = nb_pixel_non_peau + compterPixels(mask_images[0], 0)\n",
    "            hist_peau = hist_peau + cv2.calcHist(\n",
    "                [skin_images[0]], [0, 1], mask_images[0], [size, size], [0, 180, 0, 256]\n",
    "            )\n",
    "            hist_non_peau = hist_non_peau + cv2.calcHist(\n",
    "                [skin_images[0]],\n",
    "                [0, 1],\n",
    "                inverserImage(mask_images[0]),\n",
    "                [size, size],\n",
    "                [0, 180, 0, 256],\n",
    "            )\n",
    "        print(nb_pixel_peau)\n",
    "        hist_peau = hist_peau / nb_pixel_peau\n",
    "        hist_non_peau = hist_non_peau / nb_pixel_non_peau\n",
    "        p_peau_prior = nb_pixel_peau / (nb_pixel_peau + nb_pixel_non_peau)\n",
    "        p_non_peau_prior = nb_pixel_non_peau / (nb_pixel_peau + nb_pixel_non_peau)\n",
    "    return hist_peau, hist_non_peau, p_peau_prior, p_non_peau_prior\n",
    "\n",
    "\n",
    "hist_peau_RG, hist_non_peau_RG, peau_prior, non_peau_prior = create_histograms(\n",
    "    \"BGR\",\n",
    "    32,\n",
    "    getImagesFromResources(\n",
    "        \"./data/Data/Face_Dataset/Pratheepan_Dataset/FacePhoto/\", \"BGR\"\n",
    "    ),\n",
    "    getImagesFromResources(\n",
    "        \"./data/Data/Face_Dataset/Ground_Truth/GroundT_FacePhoto/\", \"Gray\"\n",
    "    ),\n",
    ")\n",
    "\n",
    "plt.imshow(hist_peau_RG, interpolation=\"nearest\")\n",
    "plt.show()\n",
    "plt.imshow(hist_non_peau_RG, interpolation=\"nearest\")\n",
    "plt.show()"
   ]
  },
  {
   "cell_type": "code",
   "execution_count": null,
   "metadata": {},
   "outputs": [],
   "source": []
  }
 ],
 "metadata": {
  "kernelspec": {
   "display_name": "myenv",
   "language": "python",
   "name": "python3"
  },
  "language_info": {
   "codemirror_mode": {
    "name": "ipython",
    "version": 3
   },
   "file_extension": ".py",
   "mimetype": "text/x-python",
   "name": "python",
   "nbconvert_exporter": "python",
   "pygments_lexer": "ipython3",
   "version": "3.9.6"
  }
 },
 "nbformat": 4,
 "nbformat_minor": 2
}
